{
 "cells": [
  {
   "cell_type": "code",
   "execution_count": 2,
   "id": "8bec9f63",
   "metadata": {},
   "outputs": [
    {
     "name": "stdout",
     "output_type": "stream",
     "text": [
      "Priority: 1, Task: Task 2\n",
      "Priority: 2, Task: Task 1\n",
      "Priority: 3, Task: Task 3\n"
     ]
    }
   ],
   "source": [
    "import queue\n",
    "\n",
    "def custom_priority(item):\n",
    "    return item[0]\n",
    "\n",
    "custom_queue = queue.PriorityQueue()\n",
    "\n",
    "custom_queue.put((2, \"Task 1\"))  # Priority 2\n",
    "custom_queue.put((1, \"Task 2\"))  # Priority 1\n",
    "custom_queue.put((3, \"Task 3\"))  # Priority 3\n",
    "\n",
    "while not custom_queue.empty():\n",
    "    priority, task = custom_queue.get()\n",
    "    print(f\"Priority: {priority}, Task: {task}\")"
   ]
  },
  {
   "cell_type": "code",
   "execution_count": null,
   "id": "335cb804",
   "metadata": {},
   "outputs": [],
   "source": []
  }
 ],
 "metadata": {
  "kernelspec": {
   "display_name": "Python 3 (ipykernel)",
   "language": "python",
   "name": "python3"
  },
  "language_info": {
   "codemirror_mode": {
    "name": "ipython",
    "version": 3
   },
   "file_extension": ".py",
   "mimetype": "text/x-python",
   "name": "python",
   "nbconvert_exporter": "python",
   "pygments_lexer": "ipython3",
   "version": "3.10.9"
  }
 },
 "nbformat": 4,
 "nbformat_minor": 5
}
