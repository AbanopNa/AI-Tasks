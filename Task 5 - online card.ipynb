{
 "cells": [
  {
   "cell_type": "markdown",
   "id": "507347d9",
   "metadata": {},
   "source": []
  },
  {
   "cell_type": "code",
   "execution_count": 1,
   "id": "3806f9dc",
   "metadata": {},
   "outputs": [],
   "source": [
    "class Product:\n",
    "    def __init__(self, name, price):\n",
    "        self.name = name\n",
    "        self.price = price\n"
   ]
  },
  {
   "cell_type": "code",
   "execution_count": 2,
   "id": "e8d355ee",
   "metadata": {},
   "outputs": [],
   "source": [
    "class ShoppingCart:\n",
    "    def __init__(self):\n",
    "        self.items = []\n",
    "\n",
    "    def add_item(self, product):\n",
    "        self.items.append(product)\n",
    "\n",
    "    def get_total(self):\n",
    "        total = sum(product.price for product in self.items)\n",
    "        return total"
   ]
  },
  {
   "cell_type": "code",
   "execution_count": 3,
   "id": "a1cd63c0",
   "metadata": {},
   "outputs": [],
   "source": [
    "class Order:\n",
    "    def __init__(self, cart):\n",
    "        self.cart = cart\n",
    "\n",
    "    def place_order(self):\n",
    "        total = self.cart.get_total()\n",
    "        print(f\"Order placed with total amount: ${total}\")\n",
    "        print(\"Thank you for shopping with us!\")"
   ]
  },
  {
   "cell_type": "code",
   "execution_count": 5,
   "id": "be93c625",
   "metadata": {},
   "outputs": [
    {
     "name": "stdout",
     "output_type": "stream",
     "text": [
      "Order placed with total amount: $1120\n",
      "Thank you for shopping with us!\n"
     ]
    }
   ],
   "source": [
    "product1 = Product(\"Laptop\", 1000)\n",
    "product2 = Product(\"Headphones\", 100)\n",
    "product3 = Product(\"Mouse\", 20)\n",
    "cart = ShoppingCart()\n",
    "cart.add_item(product1)\n",
    "cart.add_item(product2)\n",
    "cart.add_item(product3)\n",
    "\n",
    "order = Order(cart)\n",
    "order.place_order()"
   ]
  },
  {
   "cell_type": "code",
   "execution_count": null,
   "id": "5831c361",
   "metadata": {},
   "outputs": [],
   "source": []
  }
 ],
 "metadata": {
  "kernelspec": {
   "display_name": "Python 3 (ipykernel)",
   "language": "python",
   "name": "python3"
  },
  "language_info": {
   "codemirror_mode": {
    "name": "ipython",
    "version": 3
   },
   "file_extension": ".py",
   "mimetype": "text/x-python",
   "name": "python",
   "nbconvert_exporter": "python",
   "pygments_lexer": "ipython3",
   "version": "3.10.9"
  }
 },
 "nbformat": 4,
 "nbformat_minor": 5
}
