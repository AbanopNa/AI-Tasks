{
 "cells": [
  {
   "cell_type": "code",
   "execution_count": 5,
   "id": "eee0ff43",
   "metadata": {},
   "outputs": [
    {
     "name": "stdout",
     "output_type": "stream",
     "text": [
      "https://1.dam.s81c.com/p/0c627169442d5243/ibm_watsonx_data_closeup_still_4k.jpg.global.sr_1x1.jpg\n",
      "https://1.dam.s81c.com/p/0c3ce2dfcccd1f24/watsonx-data-square.jpg\n",
      "https://1.dam.s81c.com/p/0c3ce2dfcccd1f25/watsonx-ai-square.jpg\n",
      "https://1.dam.s81c.com/p/0b5258b292cc8c3c/ibm-SPSS-home-card.png.global.xs_1x1.png\n",
      "https://1.dam.s81c.com/p/0b5208b4cbcc2792/MikeLawrenceUSTA.jpg.global.xs_1x1.png\n",
      "https://1.dam.s81c.com/p/0aac9cf57bcbf324/dotcom-1-overview.jpg\n"
     ]
    }
   ],
   "source": [
    "import os\n",
    "import requests\n",
    "from bs4 import BeautifulSoup\n",
    "from urllib.parse import urljoin\n",
    "\n",
    "base_url = \"http://www.ibm.com\"\n",
    "\n",
    "if not os.path.exists(\"downloaded_files\"):\n",
    "    os.makedirs(\"downloaded_files\")\n",
    "\n",
    "response = requests.get(base_url)\n",
    "if response.status_code == 200:\n",
    "    soup = BeautifulSoup(response.content, \"html.parser\")\n",
    "\n",
    "    img_tags = soup.find_all(\"img\")\n",
    "    video_tags = soup.find_all(\"video\")\n",
    "\n",
    "    for img_tag in img_tags:\n",
    "        img_url = urljoin(webpage_url, img_tag[\"src\"])\n",
    "        img_response = requests.get(img_url)\n",
    "        print(img_tag['src'])\n",
    "\n",
    "else:\n",
    "    print(\"Failed to fetch webpage\")"
   ]
  },
  {
   "cell_type": "code",
   "execution_count": 3,
   "id": "2426d41d",
   "metadata": {},
   "outputs": [
    {
     "name": "stdout",
     "output_type": "stream",
     "text": [
      "https://media.geeksforgeeks.org/gfg-gg-logo.svg\n",
      "https://media.geeksforgeeks.org/auth-dashboard-uploads/gfgFooterLogo.png\n",
      "https://media.geeksforgeeks.org/auth-dashboard-uploads/googleplay.png\n",
      "https://media.geeksforgeeks.org/auth-dashboard-uploads/appstore.png\n",
      "\n"
     ]
    }
   ],
   "source": [
    "import requests \n",
    "from bs4 import BeautifulSoup \n",
    "    \n",
    "def getdata(url): \n",
    "    r = requests.get(url) \n",
    "    return r.text \n",
    "    \n",
    "htmldata = getdata(\"https://www.geeksforgeeks.org/\") \n",
    "soup = BeautifulSoup(htmldata, 'html.parser') \n",
    "for item in soup.find_all('img'):\n",
    "    print(item['src'])"
   ]
  },
  {
   "cell_type": "code",
   "execution_count": 9,
   "id": "b477ca00",
   "metadata": {},
   "outputs": [
    {
     "name": "stdout",
     "output_type": "stream",
     "text": [
      "Total  0 videos found\n",
      "no videos found\n"
     ]
    }
   ],
   "source": [
    "import requests\n",
    "from bs4 import BeautifulSoup\n",
    " \n",
    "# Web URL\n",
    "Web_url = \"http://www.ibm.com\"\n",
    " \n",
    "# Get URL Content\n",
    "r = requests.get(Web_url)\n",
    " \n",
    "# Parse HTML Code\n",
    "soup = BeautifulSoup(r.content, 'html.parser')\n",
    " \n",
    "# List of all video tag\n",
    "video_tags = soup.findAll('video')\n",
    "print(\"Total \", len(video_tags), \"videos found\")\n",
    " \n",
    "if len(video_tags) != 0:\n",
    "    for video_tag in video_tags:\n",
    "        video_url = video_tag.find(\"a\")['href']\n",
    "        print(video_url)\n",
    "else:\n",
    "    print(\"no videos found\")"
   ]
  },
  {
   "cell_type": "code",
   "execution_count": null,
   "id": "39dc3c60",
   "metadata": {},
   "outputs": [],
   "source": []
  }
 ],
 "metadata": {
  "kernelspec": {
   "display_name": "Python 3 (ipykernel)",
   "language": "python",
   "name": "python3"
  },
  "language_info": {
   "codemirror_mode": {
    "name": "ipython",
    "version": 3
   },
   "file_extension": ".py",
   "mimetype": "text/x-python",
   "name": "python",
   "nbconvert_exporter": "python",
   "pygments_lexer": "ipython3",
   "version": "3.10.9"
  }
 },
 "nbformat": 4,
 "nbformat_minor": 5
}
